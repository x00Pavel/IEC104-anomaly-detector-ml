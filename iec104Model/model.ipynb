{
 "cells": [
  {
   "cell_type": "code",
   "execution_count": 82,
   "metadata": {},
   "outputs": [],
   "source": [
    "from sklearn.svm import OneClassSVM\n",
    "from sklearn.metrics import accuracy_score, classification_report\n",
    "from sklearn.model_selection import train_test_split\n",
    "import pandas as pd\n",
    "from joblib import dump\n",
    "\n",
    "from os.path import join, basename, exists\n",
    "from os import makedirs, listdir, mkdir\n",
    "from shutil import rmtree\n",
    "\n",
    "import numpy as np\n",
    "import pyshark\n",
    "from traceback import print_exc\n",
    "import csv\n",
    "import concurrent.futures\n",
    "from joblib import load\n",
    "import nest_asyncio\n",
    "\n",
    "DATA_DIR = join(\"data\")\n",
    "PCAP_D = join(DATA_DIR, \"pcap\")\n",
    "CSV_D = join(DATA_DIR, \"csv\")\n",
    "MODELS_D = join(DATA_DIR, \"models\")\n",
    "INTERVALS_D = join(CSV_D, \"intervals\")\n",
    "ANOMALIES_D = join(CSV_D, \"anomalies\")\n",
    "\n",
    "for d in (DATA_DIR, PCAP_D, CSV_D, MODELS_D, INTERVALS_D, ANOMALIES_D):\n",
    "        makedirs(d, exist_ok=True)\n",
    "\n",
    "PCAP = {\"1\": join(PCAP_D, \"mega104-17-12-18.pcapng\"),\n",
    "        \"2\": join(PCAP_D, \"10122018-104Mega.pcapng\"),}\n",
    "\n",
    "CSV = {\"1\": join(CSV_D, \"mega104-17-12-18.csv\"),\n",
    "       \"2\": join(CSV_D, \"10122018-104Mega.csv\"),}\n",
    "\n",
    "nest_asyncio.apply()"
   ]
  },
  {
   "cell_type": "code",
   "execution_count": 6,
   "metadata": {},
   "outputs": [],
   "source": [
    "def parse(num=1):\n",
    "    pcap_file = PCAP[str(num)]\n",
    "    print(f\"Reading from {pcap_file}\")\n",
    "    packets = pyshark.FileCapture(pcap_file)\n",
    "\n",
    "    parsed_data = [(\"asdu_len\", \"io_type\", \"type_id\", \"src\", \"dst\", \"intervl\", \"relative_time_stamp\")]\n",
    "    \n",
    "    previous = 0\n",
    "    first_time_stamp = packets[0].sniff_time\n",
    "    relative_time = 0\n",
    "    interval = 0\n",
    "    hosts = {}\n",
    "    next_index = 0\n",
    "    for p in packets:\n",
    "        if \"iec60870_104\" not in [l.layer_name for l in p.layers]:\n",
    "            continue\n",
    "        \n",
    "        # Count time from the previous IEC 104 packet\n",
    "        if previous != 0:\n",
    "            interval = float((p.sniff_time - previous).total_seconds())\n",
    "            relative_time = (p.sniff_time - first_time_stamp).total_seconds()\n",
    "        if p.ip.src not in hosts.keys():\n",
    "            hosts[p.ip.src] = next_index\n",
    "            next_index += 1\n",
    "        if p.ip.dst not in hosts.keys():\n",
    "            hosts[p.ip.dst] = next_index\n",
    "            next_index += 1\n",
    "        \n",
    "        src = hosts[p.ip.src]\n",
    "        dst = hosts[p.ip.dst]\n",
    "        \n",
    "        previous = p.sniff_time\n",
    "        # Extract only one 'representative' for the current package\n",
    "        asdu_layer = p.get_multiple_layers(\"iec60870_asdu\")\n",
    "        if len(asdu_layer) == 0:\n",
    "            continue\n",
    "        asdu_layer = asdu_layer[0]\n",
    "\n",
    "        iec_header_layer = p.get_multiple_layers(\"iec60870_104\")\n",
    "        # Aggregate values if more then one header is present in the packet\n",
    "        iec_header = iec_header_layer[0]\n",
    "        try:\n",
    "            iec_header.apdulen = int(iec_header.apdulen)\n",
    "        except AttributeError:\n",
    "            # Not all APDU has valid apdulen attribute. Those packets in\n",
    "            # Wireshark displayed as a byte sequence, so this packet can\n",
    "            # be parsed\n",
    "            print(\"Error in converting the value in packet\")\n",
    "            print_exc()\n",
    "            print(p)\n",
    "            continue\n",
    "\n",
    "        if len(iec_header_layer) != 1:\n",
    "            for entry in iec_header_layer[1:]:\n",
    "                iec_header.apdulen += int(entry.apdulen)\n",
    "\n",
    "        try:\n",
    "            if asdu_layer:\n",
    "                parsed_data.append((iec_header.apdulen, asdu_layer.ioa, asdu_layer.typeid, src, dst, interval, relative_time))\n",
    "        except:\n",
    "            # Ignoring error if data can't be appended for some reasons.\n",
    "            print(\"Error in parsing the packet\")\n",
    "            print_exc()\n",
    "            print(p)\n",
    "\n",
    "    with open(CSV[str(num)], \"w\") as f:\n",
    "        writer = csv.writer(f)\n",
    "        writer.writerows(parsed_data)\n",
    "\n",
    "    print(f\"CSV file is stored into {CSV[str(num)]}\")\n"
   ]
  },
  {
   "cell_type": "code",
   "execution_count": 122,
   "metadata": {},
   "outputs": [],
   "source": [
    "def create_model(num=1, nu=0.018, kernel = 'sigmoid'):\n",
    "    \n",
    "    out_dir = join(MODELS_D, kernel)\n",
    "    iec104 = pd.read_csv(CSV[str(num)], header=0, skipinitialspace=True)\n",
    "\n",
    "    iec104 = iec104.drop(columns=[\"relative_time_stamp\"])\n",
    "    x_train, x_test = train_test_split(iec104, train_size=2/3, test_size=1/3,\n",
    "                                    shuffle=False, random_state=0)\n",
    "    one_class_svm = OneClassSVM(nu=nu, kernel=kernel).fit(x_train)\n",
    "    \n",
    "    if not exists(out_dir):\n",
    "        mkdir(out_dir)\n",
    "    \n",
    "    dump(one_class_svm, join(out_dir, f\"oc-svm-{num}-nu-{nu:.3f}.joblib\"))\n",
    "    prediction = one_class_svm.predict(x_test)\n",
    "    size = len(prediction)\n",
    "    t = [i for i in prediction if i == -1]\n",
    "    anomalies = len(t)\n",
    "    t = [i for i in prediction if i == 1]\n",
    "    ok = len(t)\n",
    "    perc_anom = anomalies/size\n",
    "    \n",
    "    # print(\"-\"*(len(f\"Datset: {CSV[str(num)]}\") + 2))\n",
    "    # print(f\"Datset: {CSV[str(num)]}\")\n",
    "    # print(f\"Nu is: {nu:.4f}\")\n",
    "    # print(f\"Total number of samples: {size}\")\n",
    "    # print(f\"Normal: {ok} ({100*(1-perc_anom):.2f}%)\")\n",
    "    # print(f\"Anomalies: {anomalies} ({100*perc_anom:.2f}%)\")\n",
    "    # print(\"-\"*(len(f\"Datset: {CSV[str(num)]}\") + 2))\n",
    "\n",
    "    return [nu, perc_anom, 1 - perc_anom]"
   ]
  },
  {
   "cell_type": "code",
   "execution_count": 138,
   "metadata": {},
   "outputs": [],
   "source": [
    "def predict(model, nu, dataset, out=True, kernel=\"rbf\"):\n",
    "    model = join(MODELS_D, kernel, f\"oc-svm-{model}-nu-{nu}.joblib\")\n",
    "\n",
    "    svm = load(model)\n",
    "    data = pd.read_csv(dataset).drop(columns=[\"relative_time_stamp\"])\n",
    "\n",
    "    prediction = svm.predict(data)\n",
    "    size = len(prediction)\n",
    "    t = [i for i in prediction if i == -1]\n",
    "    anomalies = len(t)\n",
    "    t = [i for i in prediction if i == 1]\n",
    "    ok = len(t)\n",
    "    perc_anom = anomalies/size\n",
    "\n",
    "    if out:\n",
    "        print(\"-\"*(len(f\"Total number of samples: {size}\") + 2))\n",
    "        print(f\"Datset: {dataset}\")\n",
    "        print(f\"Total number of samples: {size}\")\n",
    "        print(f\"Normal: {ok} ({100*(1-perc_anom):.2f}%)\")\n",
    "        print(f\"Anomalies: {anomalies} ({100*perc_anom:.2f}%)\")\n",
    "        print(\"-\"*(len(f\"Total number of samples: {size}\") + 2))\n",
    "    # return prediction, (size, ok, 100*(1-perc_anom), anomalies, 100*perc_anom)\n",
    "    return prediction\n",
    "\n"
   ]
  },
  {
   "cell_type": "code",
   "execution_count": 153,
   "metadata": {},
   "outputs": [],
   "source": [
    "def get_interval(i, interval, model_num, type_=\"o\"):\n",
    "    f = join(INTERVALS_D, f\"model-{model_num}-{interval}min\", f\"frame-{model_num}-{i}.csv\") if type_ == \"o\" else join(ANOMALIES_D, f\"frame-{model_num}-{i}.csv\")\n",
    "    assert exists(f)\n",
    "    return f\n"
   ]
  },
  {
   "cell_type": "code",
   "execution_count": 162,
   "metadata": {},
   "outputs": [],
   "source": [
    "def create_anomalies(i, interval, model_num):\n",
    "    frame_name = get_interval(i, interval, model_num, type_=\"o\")\n",
    "    frame = pd.read_csv(frame_name)\n",
    "    row_num = frame.shape[0]\n",
    "    # generate 15 random indexes to change size of data\n",
    "    min_size = frame[\"asdu_len\"].min()\n",
    "    max_size = frame[\"asdu_len\"].max()\n",
    "\n",
    "    indexes = np.random.randint(0, row_num, size=int(row_num*0.1))\n",
    "    values = np.random.randint(min_size, max_size, int(row_num*0.1))\n",
    "\n",
    "    frame.loc[indexes, [\"asdu_len\"]] = values\n",
    "    \n",
    "    # take range of 25 items to imitate DOS  \n",
    "    index = np.random.randint(0, row_num-int(row_num*0.2))\n",
    "    range_ = pd.RangeIndex(index, index + int(row_num*0.2))\n",
    "    \n",
    "    src = frame.loc[range_, \"src\"]\n",
    "    frame.loc[range_, \"src\"] = frame.loc[range_, \"dst\"]\n",
    "    frame.loc[range_, \"dst\"] = src\n",
    "    frame.to_csv(join(ANOMALIES_D, basename(frame_name)), index=False)\n",
    "    indexes = np.append(indexes, range_)\n",
    "    # indexes.append()\n",
    "\n",
    "    return frame, (indexes, values), index\n"
   ]
  },
  {
   "cell_type": "code",
   "execution_count": 89,
   "metadata": {},
   "outputs": [],
   "source": [
    "def split_to_intervals(model_num, interval=\"5min\"):\n",
    "    interval_dir = join(INTERVALS_D, f\"model-{model_num}-{interval}\")\n",
    "    if exists(interval_dir):\n",
    "        rmtree(interval_dir)\n",
    "    \n",
    "    mkdir(interval_dir)\n",
    "\n",
    "    data = pd.read_csv(CSV[model_num])\n",
    "    data[\"relative_time_stamp\"] = pd.to_datetime(data[\"relative_time_stamp\"], unit='s',)\n",
    "    for i, frame in enumerate(data.groupby(pd.Grouper(key=\"relative_time_stamp\",freq=interval))):\n",
    "        frame[1].to_csv(join(interval_dir, f\"frame-{model_num}-{i}.csv\"), index=False, date_format=\"%M:%S.%f\")\n",
    "    return interval_dir"
   ]
  },
  {
   "cell_type": "code",
   "execution_count": 47,
   "metadata": {},
   "outputs": [
    {
     "name": "stdout",
     "output_type": "stream",
     "text": [
      "Reading from data/pcap/mega104-17-12-18.pcapng\n"
     ]
    },
    {
     "name": "stderr",
     "output_type": "stream",
     "text": [
      "Exception ignored in: <function Capture.__del__ at 0x7fdc2ca0f790>\n",
      "Traceback (most recent call last):\n",
      "  File \"/home/xyadlo00/studies/FIT/MITAI/1-rocnik/letni/PDS/proj/pds-env/lib/python3.8/site-packages/pyshark/capture/capture.py\", line 445, in __del__\n",
      "    self.close()\n",
      "  File \"/home/xyadlo00/studies/FIT/MITAI/1-rocnik/letni/PDS/proj/pds-env/lib/python3.8/site-packages/pyshark/capture/capture.py\", line 436, in close\n",
      "    self.eventloop.run_until_complete(self.close_async())\n",
      "  File \"/home/xyadlo00/studies/FIT/MITAI/1-rocnik/letni/PDS/proj/pds-env/lib/python3.8/site-packages/nest_asyncio.py\", line 81, in run_until_complete\n",
      "    return f.result()\n",
      "  File \"/usr/lib/python3.8/asyncio/futures.py\", line 178, in result\n",
      "    raise self._exception\n",
      "  File \"/usr/lib/python3.8/asyncio/tasks.py\", line 280, in __step\n",
      "    result = coro.send(None)\n",
      "  File \"/home/xyadlo00/studies/FIT/MITAI/1-rocnik/letni/PDS/proj/pds-env/lib/python3.8/site-packages/pyshark/capture/capture.py\", line 440, in close_async\n",
      "    await self._cleanup_subprocess(process)\n",
      "  File \"/home/xyadlo00/studies/FIT/MITAI/1-rocnik/letni/PDS/proj/pds-env/lib/python3.8/site-packages/pyshark/capture/capture.py\", line 431, in _cleanup_subprocess\n",
      "    raise TSharkCrashException(\"TShark seems to have crashed (retcode: %d). \"\n",
      "pyshark.capture.capture.TSharkCrashException: TShark seems to have crashed (retcode: 2). Try rerunning in debug mode [ capture_obj.set_debug() ] or try updating tshark.\n",
      "Exception ignored in: <function Capture.__del__ at 0x7fdc2ca0f790>\n",
      "Traceback (most recent call last):\n",
      "  File \"/home/xyadlo00/studies/FIT/MITAI/1-rocnik/letni/PDS/proj/pds-env/lib/python3.8/site-packages/pyshark/capture/capture.py\", line 445, in __del__\n",
      "    self.close()\n",
      "  File \"/home/xyadlo00/studies/FIT/MITAI/1-rocnik/letni/PDS/proj/pds-env/lib/python3.8/site-packages/pyshark/capture/capture.py\", line 436, in close\n",
      "    self.eventloop.run_until_complete(self.close_async())\n",
      "  File \"/home/xyadlo00/studies/FIT/MITAI/1-rocnik/letni/PDS/proj/pds-env/lib/python3.8/site-packages/nest_asyncio.py\", line 81, in run_until_complete\n",
      "    return f.result()\n",
      "  File \"/usr/lib/python3.8/asyncio/futures.py\", line 178, in result\n",
      "    raise self._exception\n",
      "  File \"/usr/lib/python3.8/asyncio/tasks.py\", line 280, in __step\n",
      "    result = coro.send(None)\n",
      "  File \"/home/xyadlo00/studies/FIT/MITAI/1-rocnik/letni/PDS/proj/pds-env/lib/python3.8/site-packages/pyshark/capture/capture.py\", line 440, in close_async\n",
      "    await self._cleanup_subprocess(process)\n",
      "  File \"/home/xyadlo00/studies/FIT/MITAI/1-rocnik/letni/PDS/proj/pds-env/lib/python3.8/site-packages/pyshark/capture/capture.py\", line 431, in _cleanup_subprocess\n",
      "    raise TSharkCrashException(\"TShark seems to have crashed (retcode: %d). \"\n",
      "pyshark.capture.capture.TSharkCrashException: TShark seems to have crashed (retcode: 2). Try rerunning in debug mode [ capture_obj.set_debug() ] or try updating tshark.\n",
      "Exception ignored in: <function BaseSubprocessTransport.__del__ at 0x7fdc9c3d3ca0>\n",
      "Traceback (most recent call last):\n",
      "  File \"/usr/lib/python3.8/asyncio/base_subprocess.py\", line 126, in __del__\n",
      "    self.close()\n",
      "  File \"/usr/lib/python3.8/asyncio/base_subprocess.py\", line 104, in close\n",
      "    proto.pipe.close()\n",
      "  File \"/usr/lib/python3.8/asyncio/unix_events.py\", line 536, in close\n",
      "    self._close(None)\n",
      "  File \"/usr/lib/python3.8/asyncio/unix_events.py\", line 560, in _close\n",
      "    self._loop.call_soon(self._call_connection_lost, exc)\n",
      "  File \"/usr/lib/python3.8/asyncio/base_events.py\", line 719, in call_soon\n",
      "    self._check_closed()\n",
      "  File \"/usr/lib/python3.8/asyncio/base_events.py\", line 508, in _check_closed\n",
      "    raise RuntimeError('Event loop is closed')\n",
      "RuntimeError: Event loop is closed\n",
      "Exception ignored in: <function BaseSubprocessTransport.__del__ at 0x7fdc9c3d3ca0>\n",
      "Traceback (most recent call last):\n",
      "  File \"/usr/lib/python3.8/asyncio/base_subprocess.py\", line 126, in __del__\n",
      "    self.close()\n",
      "  File \"/usr/lib/python3.8/asyncio/base_subprocess.py\", line 104, in close\n",
      "    proto.pipe.close()\n",
      "  File \"/usr/lib/python3.8/asyncio/unix_events.py\", line 536, in close\n",
      "    self._close(None)\n",
      "  File \"/usr/lib/python3.8/asyncio/unix_events.py\", line 560, in _close\n",
      "    self._loop.call_soon(self._call_connection_lost, exc)\n",
      "  File \"/usr/lib/python3.8/asyncio/base_events.py\", line 719, in call_soon\n",
      "    self._check_closed()\n",
      "  File \"/usr/lib/python3.8/asyncio/base_events.py\", line 508, in _check_closed\n",
      "    raise RuntimeError('Event loop is closed')\n",
      "RuntimeError: Event loop is closed\n"
     ]
    },
    {
     "ename": "KeyboardInterrupt",
     "evalue": "",
     "output_type": "error",
     "traceback": [
      "\u001b[0;31m---------------------------------------------------------------------------\u001b[0m",
      "\u001b[0;31mKeyboardInterrupt\u001b[0m                         Traceback (most recent call last)",
      "\u001b[1;32m/home/xyadlo00/studies/FIT/MITAI/1-rocnik/letni/PDS/proj/iec104Model/iec104Model/model.ipynb Cell 3'\u001b[0m in \u001b[0;36m<cell line: 3>\u001b[0;34m()\u001b[0m\n\u001b[1;32m      <a href='vscode-notebook-cell:/home/xyadlo00/studies/FIT/MITAI/1-rocnik/letni/PDS/proj/iec104Model/iec104Model/model.ipynb#ch0000002?line=0'>1</a>\u001b[0m \u001b[39m# with concurrent.futures.ThreadPoolExecutor(max_workers=5) as executor:\u001b[39;00m\n\u001b[1;32m      <a href='vscode-notebook-cell:/home/xyadlo00/studies/FIT/MITAI/1-rocnik/letni/PDS/proj/iec104Model/iec104Model/model.ipynb#ch0000002?line=1'>2</a>\u001b[0m \u001b[39m#         executor.map(parse, [1, 2])\u001b[39;00m\n\u001b[0;32m----> <a href='vscode-notebook-cell:/home/xyadlo00/studies/FIT/MITAI/1-rocnik/letni/PDS/proj/iec104Model/iec104Model/model.ipynb#ch0000002?line=2'>3</a>\u001b[0m parse(\u001b[39m1\u001b[39;49m)\n\u001b[1;32m      <a href='vscode-notebook-cell:/home/xyadlo00/studies/FIT/MITAI/1-rocnik/letni/PDS/proj/iec104Model/iec104Model/model.ipynb#ch0000002?line=3'>4</a>\u001b[0m parse(\u001b[39m2\u001b[39m)\n",
      "\u001b[1;32m/home/xyadlo00/studies/FIT/MITAI/1-rocnik/letni/PDS/proj/iec104Model/iec104Model/model.ipynb Cell 2'\u001b[0m in \u001b[0;36mparse\u001b[0;34m(num)\u001b[0m\n\u001b[1;32m     <a href='vscode-notebook-cell:/home/xyadlo00/studies/FIT/MITAI/1-rocnik/letni/PDS/proj/iec104Model/iec104Model/model.ipynb#ch0000001?line=11'>12</a>\u001b[0m hosts \u001b[39m=\u001b[39m {}\n\u001b[1;32m     <a href='vscode-notebook-cell:/home/xyadlo00/studies/FIT/MITAI/1-rocnik/letni/PDS/proj/iec104Model/iec104Model/model.ipynb#ch0000001?line=12'>13</a>\u001b[0m next_index \u001b[39m=\u001b[39m \u001b[39m0\u001b[39m\n\u001b[0;32m---> <a href='vscode-notebook-cell:/home/xyadlo00/studies/FIT/MITAI/1-rocnik/letni/PDS/proj/iec104Model/iec104Model/model.ipynb#ch0000001?line=13'>14</a>\u001b[0m \u001b[39mfor\u001b[39;00m p \u001b[39min\u001b[39;00m packets:\n\u001b[1;32m     <a href='vscode-notebook-cell:/home/xyadlo00/studies/FIT/MITAI/1-rocnik/letni/PDS/proj/iec104Model/iec104Model/model.ipynb#ch0000001?line=14'>15</a>\u001b[0m     \u001b[39mif\u001b[39;00m \u001b[39m\"\u001b[39m\u001b[39miec60870_104\u001b[39m\u001b[39m\"\u001b[39m \u001b[39mnot\u001b[39;00m \u001b[39min\u001b[39;00m [l\u001b[39m.\u001b[39mlayer_name \u001b[39mfor\u001b[39;00m l \u001b[39min\u001b[39;00m p\u001b[39m.\u001b[39mlayers]:\n\u001b[1;32m     <a href='vscode-notebook-cell:/home/xyadlo00/studies/FIT/MITAI/1-rocnik/letni/PDS/proj/iec104Model/iec104Model/model.ipynb#ch0000001?line=15'>16</a>\u001b[0m         \u001b[39mcontinue\u001b[39;00m\n",
      "File \u001b[0;32m~/studies/FIT/MITAI/1-rocnik/letni/PDS/proj/pds-env/lib/python3.8/site-packages/pyshark/capture/capture.py:240\u001b[0m, in \u001b[0;36mCapture._packets_from_tshark_sync\u001b[0;34m(self, packet_count, existing_process)\u001b[0m\n\u001b[1;32m    <a href='file:///home/xyadlo00/studies/FIT/MITAI/1-rocnik/letni/PDS/proj/pds-env/lib/python3.8/site-packages/pyshark/capture/capture.py?line=237'>238</a>\u001b[0m \u001b[39mwhile\u001b[39;00m \u001b[39mTrue\u001b[39;00m:\n\u001b[1;32m    <a href='file:///home/xyadlo00/studies/FIT/MITAI/1-rocnik/letni/PDS/proj/pds-env/lib/python3.8/site-packages/pyshark/capture/capture.py?line=238'>239</a>\u001b[0m     \u001b[39mtry\u001b[39;00m:\n\u001b[0;32m--> <a href='file:///home/xyadlo00/studies/FIT/MITAI/1-rocnik/letni/PDS/proj/pds-env/lib/python3.8/site-packages/pyshark/capture/capture.py?line=239'>240</a>\u001b[0m         packet, data \u001b[39m=\u001b[39m \u001b[39mself\u001b[39;49m\u001b[39m.\u001b[39;49meventloop\u001b[39m.\u001b[39;49mrun_until_complete(\n\u001b[1;32m    <a href='file:///home/xyadlo00/studies/FIT/MITAI/1-rocnik/letni/PDS/proj/pds-env/lib/python3.8/site-packages/pyshark/capture/capture.py?line=240'>241</a>\u001b[0m             \u001b[39mself\u001b[39;49m\u001b[39m.\u001b[39;49m_get_packet_from_stream(tshark_process\u001b[39m.\u001b[39;49mstdout, data, psml_structure\u001b[39m=\u001b[39;49mpsml_structure,\n\u001b[1;32m    <a href='file:///home/xyadlo00/studies/FIT/MITAI/1-rocnik/letni/PDS/proj/pds-env/lib/python3.8/site-packages/pyshark/capture/capture.py?line=241'>242</a>\u001b[0m                                          got_first_packet\u001b[39m=\u001b[39;49mpackets_captured \u001b[39m>\u001b[39;49m \u001b[39m0\u001b[39;49m))\n\u001b[1;32m    <a href='file:///home/xyadlo00/studies/FIT/MITAI/1-rocnik/letni/PDS/proj/pds-env/lib/python3.8/site-packages/pyshark/capture/capture.py?line=243'>244</a>\u001b[0m     \u001b[39mexcept\u001b[39;00m \u001b[39mEOFError\u001b[39;00m:\n\u001b[1;32m    <a href='file:///home/xyadlo00/studies/FIT/MITAI/1-rocnik/letni/PDS/proj/pds-env/lib/python3.8/site-packages/pyshark/capture/capture.py?line=244'>245</a>\u001b[0m         \u001b[39mself\u001b[39m\u001b[39m.\u001b[39m_log\u001b[39m.\u001b[39mdebug(\u001b[39m\"\u001b[39m\u001b[39mEOF reached (sync)\u001b[39m\u001b[39m\"\u001b[39m)\n",
      "File \u001b[0;32m~/studies/FIT/MITAI/1-rocnik/letni/PDS/proj/pds-env/lib/python3.8/site-packages/nest_asyncio.py:75\u001b[0m, in \u001b[0;36m_patch_loop.<locals>.run_until_complete\u001b[0;34m(self, future)\u001b[0m\n\u001b[1;32m     <a href='file:///home/xyadlo00/studies/FIT/MITAI/1-rocnik/letni/PDS/proj/pds-env/lib/python3.8/site-packages/nest_asyncio.py?line=72'>73</a>\u001b[0m     f\u001b[39m.\u001b[39m_log_destroy_pending \u001b[39m=\u001b[39m \u001b[39mFalse\u001b[39;00m\n\u001b[1;32m     <a href='file:///home/xyadlo00/studies/FIT/MITAI/1-rocnik/letni/PDS/proj/pds-env/lib/python3.8/site-packages/nest_asyncio.py?line=73'>74</a>\u001b[0m \u001b[39mwhile\u001b[39;00m \u001b[39mnot\u001b[39;00m f\u001b[39m.\u001b[39mdone():\n\u001b[0;32m---> <a href='file:///home/xyadlo00/studies/FIT/MITAI/1-rocnik/letni/PDS/proj/pds-env/lib/python3.8/site-packages/nest_asyncio.py?line=74'>75</a>\u001b[0m     \u001b[39mself\u001b[39;49m\u001b[39m.\u001b[39;49m_run_once()\n\u001b[1;32m     <a href='file:///home/xyadlo00/studies/FIT/MITAI/1-rocnik/letni/PDS/proj/pds-env/lib/python3.8/site-packages/nest_asyncio.py?line=75'>76</a>\u001b[0m     \u001b[39mif\u001b[39;00m \u001b[39mself\u001b[39m\u001b[39m.\u001b[39m_stopping:\n\u001b[1;32m     <a href='file:///home/xyadlo00/studies/FIT/MITAI/1-rocnik/letni/PDS/proj/pds-env/lib/python3.8/site-packages/nest_asyncio.py?line=76'>77</a>\u001b[0m         \u001b[39mbreak\u001b[39;00m\n",
      "File \u001b[0;32m~/studies/FIT/MITAI/1-rocnik/letni/PDS/proj/pds-env/lib/python3.8/site-packages/nest_asyncio.py:111\u001b[0m, in \u001b[0;36m_patch_loop.<locals>._run_once\u001b[0;34m(self)\u001b[0m\n\u001b[1;32m    <a href='file:///home/xyadlo00/studies/FIT/MITAI/1-rocnik/letni/PDS/proj/pds-env/lib/python3.8/site-packages/nest_asyncio.py?line=108'>109</a>\u001b[0m     handle \u001b[39m=\u001b[39m ready\u001b[39m.\u001b[39mpopleft()\n\u001b[1;32m    <a href='file:///home/xyadlo00/studies/FIT/MITAI/1-rocnik/letni/PDS/proj/pds-env/lib/python3.8/site-packages/nest_asyncio.py?line=109'>110</a>\u001b[0m     \u001b[39mif\u001b[39;00m \u001b[39mnot\u001b[39;00m handle\u001b[39m.\u001b[39m_cancelled:\n\u001b[0;32m--> <a href='file:///home/xyadlo00/studies/FIT/MITAI/1-rocnik/letni/PDS/proj/pds-env/lib/python3.8/site-packages/nest_asyncio.py?line=110'>111</a>\u001b[0m         handle\u001b[39m.\u001b[39;49m_run()\n\u001b[1;32m    <a href='file:///home/xyadlo00/studies/FIT/MITAI/1-rocnik/letni/PDS/proj/pds-env/lib/python3.8/site-packages/nest_asyncio.py?line=111'>112</a>\u001b[0m handle \u001b[39m=\u001b[39m \u001b[39mNone\u001b[39;00m\n",
      "File \u001b[0;32m/usr/lib/python3.8/asyncio/events.py:81\u001b[0m, in \u001b[0;36mHandle._run\u001b[0;34m(self)\u001b[0m\n\u001b[1;32m     <a href='file:///usr/lib/python3.8/asyncio/events.py?line=78'>79</a>\u001b[0m \u001b[39mdef\u001b[39;00m \u001b[39m_run\u001b[39m(\u001b[39mself\u001b[39m):\n\u001b[1;32m     <a href='file:///usr/lib/python3.8/asyncio/events.py?line=79'>80</a>\u001b[0m     \u001b[39mtry\u001b[39;00m:\n\u001b[0;32m---> <a href='file:///usr/lib/python3.8/asyncio/events.py?line=80'>81</a>\u001b[0m         \u001b[39mself\u001b[39;49m\u001b[39m.\u001b[39;49m_context\u001b[39m.\u001b[39;49mrun(\u001b[39mself\u001b[39;49m\u001b[39m.\u001b[39;49m_callback, \u001b[39m*\u001b[39;49m\u001b[39mself\u001b[39;49m\u001b[39m.\u001b[39;49m_args)\n\u001b[1;32m     <a href='file:///usr/lib/python3.8/asyncio/events.py?line=81'>82</a>\u001b[0m     \u001b[39mexcept\u001b[39;00m (\u001b[39mSystemExit\u001b[39;00m, \u001b[39mKeyboardInterrupt\u001b[39;00m):\n\u001b[1;32m     <a href='file:///usr/lib/python3.8/asyncio/events.py?line=82'>83</a>\u001b[0m         \u001b[39mraise\u001b[39;00m\n",
      "File \u001b[0;32m~/studies/FIT/MITAI/1-rocnik/letni/PDS/proj/pds-env/lib/python3.8/site-packages/nest_asyncio.py:183\u001b[0m, in \u001b[0;36m_patch_task.<locals>.step\u001b[0;34m(task, exc)\u001b[0m\n\u001b[1;32m    <a href='file:///home/xyadlo00/studies/FIT/MITAI/1-rocnik/letni/PDS/proj/pds-env/lib/python3.8/site-packages/nest_asyncio.py?line=180'>181</a>\u001b[0m curr_task \u001b[39m=\u001b[39m curr_tasks\u001b[39m.\u001b[39mget(task\u001b[39m.\u001b[39m_loop)\n\u001b[1;32m    <a href='file:///home/xyadlo00/studies/FIT/MITAI/1-rocnik/letni/PDS/proj/pds-env/lib/python3.8/site-packages/nest_asyncio.py?line=181'>182</a>\u001b[0m \u001b[39mtry\u001b[39;00m:\n\u001b[0;32m--> <a href='file:///home/xyadlo00/studies/FIT/MITAI/1-rocnik/letni/PDS/proj/pds-env/lib/python3.8/site-packages/nest_asyncio.py?line=182'>183</a>\u001b[0m     step_orig(task, exc)\n\u001b[1;32m    <a href='file:///home/xyadlo00/studies/FIT/MITAI/1-rocnik/letni/PDS/proj/pds-env/lib/python3.8/site-packages/nest_asyncio.py?line=183'>184</a>\u001b[0m \u001b[39mfinally\u001b[39;00m:\n\u001b[1;32m    <a href='file:///home/xyadlo00/studies/FIT/MITAI/1-rocnik/letni/PDS/proj/pds-env/lib/python3.8/site-packages/nest_asyncio.py?line=184'>185</a>\u001b[0m     \u001b[39mif\u001b[39;00m curr_task \u001b[39mis\u001b[39;00m \u001b[39mNone\u001b[39;00m:\n",
      "File \u001b[0;32m/usr/lib/python3.8/asyncio/tasks.py:280\u001b[0m, in \u001b[0;36mTask.__step\u001b[0;34m(***failed resolving arguments***)\u001b[0m\n\u001b[1;32m    <a href='file:///usr/lib/python3.8/asyncio/tasks.py?line=275'>276</a>\u001b[0m \u001b[39mtry\u001b[39;00m:\n\u001b[1;32m    <a href='file:///usr/lib/python3.8/asyncio/tasks.py?line=276'>277</a>\u001b[0m     \u001b[39mif\u001b[39;00m exc \u001b[39mis\u001b[39;00m \u001b[39mNone\u001b[39;00m:\n\u001b[1;32m    <a href='file:///usr/lib/python3.8/asyncio/tasks.py?line=277'>278</a>\u001b[0m         \u001b[39m# We use the `send` method directly, because coroutines\u001b[39;00m\n\u001b[1;32m    <a href='file:///usr/lib/python3.8/asyncio/tasks.py?line=278'>279</a>\u001b[0m         \u001b[39m# don't have `__iter__` and `__next__` methods.\u001b[39;00m\n\u001b[0;32m--> <a href='file:///usr/lib/python3.8/asyncio/tasks.py?line=279'>280</a>\u001b[0m         result \u001b[39m=\u001b[39m coro\u001b[39m.\u001b[39;49msend(\u001b[39mNone\u001b[39;49;00m)\n\u001b[1;32m    <a href='file:///usr/lib/python3.8/asyncio/tasks.py?line=280'>281</a>\u001b[0m     \u001b[39melse\u001b[39;00m:\n\u001b[1;32m    <a href='file:///usr/lib/python3.8/asyncio/tasks.py?line=281'>282</a>\u001b[0m         result \u001b[39m=\u001b[39m coro\u001b[39m.\u001b[39mthrow(exc)\n",
      "File \u001b[0;32m~/studies/FIT/MITAI/1-rocnik/letni/PDS/proj/pds-env/lib/python3.8/site-packages/pyshark/capture/capture.py:360\u001b[0m, in \u001b[0;36mCapture._get_packet_from_stream\u001b[0;34m(self, stream, existing_data, got_first_packet, psml_structure)\u001b[0m\n\u001b[1;32m    <a href='file:///home/xyadlo00/studies/FIT/MITAI/1-rocnik/letni/PDS/proj/pds-env/lib/python3.8/site-packages/pyshark/capture/capture.py?line=357'>358</a>\u001b[0m         packet \u001b[39m=\u001b[39m packet_from_json_packet(packet, deduplicate_fields\u001b[39m=\u001b[39m\u001b[39mself\u001b[39m\u001b[39m.\u001b[39m_json_has_duplicate_keys)\n\u001b[1;32m    <a href='file:///home/xyadlo00/studies/FIT/MITAI/1-rocnik/letni/PDS/proj/pds-env/lib/python3.8/site-packages/pyshark/capture/capture.py?line=358'>359</a>\u001b[0m     \u001b[39melse\u001b[39;00m:\n\u001b[0;32m--> <a href='file:///home/xyadlo00/studies/FIT/MITAI/1-rocnik/letni/PDS/proj/pds-env/lib/python3.8/site-packages/pyshark/capture/capture.py?line=359'>360</a>\u001b[0m         packet \u001b[39m=\u001b[39m packet_from_xml_packet(packet, psml_structure\u001b[39m=\u001b[39;49mpsml_structure)\n\u001b[1;32m    <a href='file:///home/xyadlo00/studies/FIT/MITAI/1-rocnik/letni/PDS/proj/pds-env/lib/python3.8/site-packages/pyshark/capture/capture.py?line=360'>361</a>\u001b[0m     \u001b[39mreturn\u001b[39;00m packet, existing_data\n\u001b[1;32m    <a href='file:///home/xyadlo00/studies/FIT/MITAI/1-rocnik/letni/PDS/proj/pds-env/lib/python3.8/site-packages/pyshark/capture/capture.py?line=362'>363</a>\u001b[0m new_data \u001b[39m=\u001b[39m \u001b[39mawait\u001b[39;00m stream\u001b[39m.\u001b[39mread(\u001b[39mself\u001b[39m\u001b[39m.\u001b[39mDEFAULT_BATCH_SIZE)\n",
      "File \u001b[0;32m~/studies/FIT/MITAI/1-rocnik/letni/PDS/proj/pds-env/lib/python3.8/site-packages/pyshark/tshark/tshark_xml.py:34\u001b[0m, in \u001b[0;36mpacket_from_xml_packet\u001b[0;34m(xml_pkt, psml_structure)\u001b[0m\n\u001b[1;32m     <a href='file:///home/xyadlo00/studies/FIT/MITAI/1-rocnik/letni/PDS/proj/pds-env/lib/python3.8/site-packages/pyshark/tshark/tshark_xml.py?line=31'>32</a>\u001b[0m \u001b[39mif\u001b[39;00m psml_structure:\n\u001b[1;32m     <a href='file:///home/xyadlo00/studies/FIT/MITAI/1-rocnik/letni/PDS/proj/pds-env/lib/python3.8/site-packages/pyshark/tshark/tshark_xml.py?line=32'>33</a>\u001b[0m     \u001b[39mreturn\u001b[39;00m _packet_from_psml_packet(xml_pkt, psml_structure)\n\u001b[0;32m---> <a href='file:///home/xyadlo00/studies/FIT/MITAI/1-rocnik/letni/PDS/proj/pds-env/lib/python3.8/site-packages/pyshark/tshark/tshark_xml.py?line=33'>34</a>\u001b[0m \u001b[39mreturn\u001b[39;00m _packet_from_pdml_packet(xml_pkt)\n",
      "File \u001b[0;32m~/studies/FIT/MITAI/1-rocnik/letni/PDS/proj/pds-env/lib/python3.8/site-packages/pyshark/tshark/tshark_xml.py:42\u001b[0m, in \u001b[0;36m_packet_from_pdml_packet\u001b[0;34m(pdml_packet)\u001b[0m\n\u001b[1;32m     <a href='file:///home/xyadlo00/studies/FIT/MITAI/1-rocnik/letni/PDS/proj/pds-env/lib/python3.8/site-packages/pyshark/tshark/tshark_xml.py?line=40'>41</a>\u001b[0m \u001b[39mdef\u001b[39;00m \u001b[39m_packet_from_pdml_packet\u001b[39m(pdml_packet):\n\u001b[0;32m---> <a href='file:///home/xyadlo00/studies/FIT/MITAI/1-rocnik/letni/PDS/proj/pds-env/lib/python3.8/site-packages/pyshark/tshark/tshark_xml.py?line=41'>42</a>\u001b[0m     layers \u001b[39m=\u001b[39m [Layer(proto) \u001b[39mfor\u001b[39;00m proto \u001b[39min\u001b[39;00m pdml_packet\u001b[39m.\u001b[39mproto]\n\u001b[1;32m     <a href='file:///home/xyadlo00/studies/FIT/MITAI/1-rocnik/letni/PDS/proj/pds-env/lib/python3.8/site-packages/pyshark/tshark/tshark_xml.py?line=42'>43</a>\u001b[0m     geninfo, frame, layers \u001b[39m=\u001b[39m layers[\u001b[39m0\u001b[39m], layers[\u001b[39m1\u001b[39m], layers[\u001b[39m2\u001b[39m:]\n\u001b[1;32m     <a href='file:///home/xyadlo00/studies/FIT/MITAI/1-rocnik/letni/PDS/proj/pds-env/lib/python3.8/site-packages/pyshark/tshark/tshark_xml.py?line=43'>44</a>\u001b[0m     \u001b[39mreturn\u001b[39;00m Packet(layers\u001b[39m=\u001b[39mlayers, frame_info\u001b[39m=\u001b[39mframe, number\u001b[39m=\u001b[39mgeninfo\u001b[39m.\u001b[39mget_field_value(\u001b[39m'\u001b[39m\u001b[39mnum\u001b[39m\u001b[39m'\u001b[39m),\n\u001b[1;32m     <a href='file:///home/xyadlo00/studies/FIT/MITAI/1-rocnik/letni/PDS/proj/pds-env/lib/python3.8/site-packages/pyshark/tshark/tshark_xml.py?line=44'>45</a>\u001b[0m                   length\u001b[39m=\u001b[39mgeninfo\u001b[39m.\u001b[39mget_field_value(\u001b[39m'\u001b[39m\u001b[39mlen\u001b[39m\u001b[39m'\u001b[39m), sniff_time\u001b[39m=\u001b[39mgeninfo\u001b[39m.\u001b[39mget_field_value(\u001b[39m'\u001b[39m\u001b[39mtimestamp\u001b[39m\u001b[39m'\u001b[39m, raw\u001b[39m=\u001b[39m\u001b[39mTrue\u001b[39;00m),\n\u001b[1;32m     <a href='file:///home/xyadlo00/studies/FIT/MITAI/1-rocnik/letni/PDS/proj/pds-env/lib/python3.8/site-packages/pyshark/tshark/tshark_xml.py?line=45'>46</a>\u001b[0m                   captured_length\u001b[39m=\u001b[39mgeninfo\u001b[39m.\u001b[39mget_field_value(\u001b[39m'\u001b[39m\u001b[39mcaplen\u001b[39m\u001b[39m'\u001b[39m),\n\u001b[1;32m     <a href='file:///home/xyadlo00/studies/FIT/MITAI/1-rocnik/letni/PDS/proj/pds-env/lib/python3.8/site-packages/pyshark/tshark/tshark_xml.py?line=46'>47</a>\u001b[0m                   interface_captured\u001b[39m=\u001b[39mframe\u001b[39m.\u001b[39mget_field_value(\u001b[39m'\u001b[39m\u001b[39minterface_id\u001b[39m\u001b[39m'\u001b[39m, raw\u001b[39m=\u001b[39m\u001b[39mTrue\u001b[39;00m))\n",
      "File \u001b[0;32m~/studies/FIT/MITAI/1-rocnik/letni/PDS/proj/pds-env/lib/python3.8/site-packages/pyshark/tshark/tshark_xml.py:42\u001b[0m, in \u001b[0;36m<listcomp>\u001b[0;34m(.0)\u001b[0m\n\u001b[1;32m     <a href='file:///home/xyadlo00/studies/FIT/MITAI/1-rocnik/letni/PDS/proj/pds-env/lib/python3.8/site-packages/pyshark/tshark/tshark_xml.py?line=40'>41</a>\u001b[0m \u001b[39mdef\u001b[39;00m \u001b[39m_packet_from_pdml_packet\u001b[39m(pdml_packet):\n\u001b[0;32m---> <a href='file:///home/xyadlo00/studies/FIT/MITAI/1-rocnik/letni/PDS/proj/pds-env/lib/python3.8/site-packages/pyshark/tshark/tshark_xml.py?line=41'>42</a>\u001b[0m     layers \u001b[39m=\u001b[39m [Layer(proto) \u001b[39mfor\u001b[39;00m proto \u001b[39min\u001b[39;00m pdml_packet\u001b[39m.\u001b[39mproto]\n\u001b[1;32m     <a href='file:///home/xyadlo00/studies/FIT/MITAI/1-rocnik/letni/PDS/proj/pds-env/lib/python3.8/site-packages/pyshark/tshark/tshark_xml.py?line=42'>43</a>\u001b[0m     geninfo, frame, layers \u001b[39m=\u001b[39m layers[\u001b[39m0\u001b[39m], layers[\u001b[39m1\u001b[39m], layers[\u001b[39m2\u001b[39m:]\n\u001b[1;32m     <a href='file:///home/xyadlo00/studies/FIT/MITAI/1-rocnik/letni/PDS/proj/pds-env/lib/python3.8/site-packages/pyshark/tshark/tshark_xml.py?line=43'>44</a>\u001b[0m     \u001b[39mreturn\u001b[39;00m Packet(layers\u001b[39m=\u001b[39mlayers, frame_info\u001b[39m=\u001b[39mframe, number\u001b[39m=\u001b[39mgeninfo\u001b[39m.\u001b[39mget_field_value(\u001b[39m'\u001b[39m\u001b[39mnum\u001b[39m\u001b[39m'\u001b[39m),\n\u001b[1;32m     <a href='file:///home/xyadlo00/studies/FIT/MITAI/1-rocnik/letni/PDS/proj/pds-env/lib/python3.8/site-packages/pyshark/tshark/tshark_xml.py?line=44'>45</a>\u001b[0m                   length\u001b[39m=\u001b[39mgeninfo\u001b[39m.\u001b[39mget_field_value(\u001b[39m'\u001b[39m\u001b[39mlen\u001b[39m\u001b[39m'\u001b[39m), sniff_time\u001b[39m=\u001b[39mgeninfo\u001b[39m.\u001b[39mget_field_value(\u001b[39m'\u001b[39m\u001b[39mtimestamp\u001b[39m\u001b[39m'\u001b[39m, raw\u001b[39m=\u001b[39m\u001b[39mTrue\u001b[39;00m),\n\u001b[1;32m     <a href='file:///home/xyadlo00/studies/FIT/MITAI/1-rocnik/letni/PDS/proj/pds-env/lib/python3.8/site-packages/pyshark/tshark/tshark_xml.py?line=45'>46</a>\u001b[0m                   captured_length\u001b[39m=\u001b[39mgeninfo\u001b[39m.\u001b[39mget_field_value(\u001b[39m'\u001b[39m\u001b[39mcaplen\u001b[39m\u001b[39m'\u001b[39m),\n\u001b[1;32m     <a href='file:///home/xyadlo00/studies/FIT/MITAI/1-rocnik/letni/PDS/proj/pds-env/lib/python3.8/site-packages/pyshark/tshark/tshark_xml.py?line=46'>47</a>\u001b[0m                   interface_captured\u001b[39m=\u001b[39mframe\u001b[39m.\u001b[39mget_field_value(\u001b[39m'\u001b[39m\u001b[39minterface_id\u001b[39m\u001b[39m'\u001b[39m, raw\u001b[39m=\u001b[39m\u001b[39mTrue\u001b[39;00m))\n",
      "File \u001b[0;32m~/studies/FIT/MITAI/1-rocnik/letni/PDS/proj/pds-env/lib/python3.8/site-packages/pyshark/packet/layer.py:25\u001b[0m, in \u001b[0;36mLayer.__init__\u001b[0;34m(self, xml_obj, raw_mode)\u001b[0m\n\u001b[1;32m     <a href='file:///home/xyadlo00/studies/FIT/MITAI/1-rocnik/letni/PDS/proj/pds-env/lib/python3.8/site-packages/pyshark/packet/layer.py?line=20'>21</a>\u001b[0m \u001b[39m# We copy over all the fields from the XML object\u001b[39;00m\n\u001b[1;32m     <a href='file:///home/xyadlo00/studies/FIT/MITAI/1-rocnik/letni/PDS/proj/pds-env/lib/python3.8/site-packages/pyshark/packet/layer.py?line=21'>22</a>\u001b[0m \u001b[39m# Note: we don't read lazily from the XML because the lxml objects are very memory-inefficient\u001b[39;00m\n\u001b[1;32m     <a href='file:///home/xyadlo00/studies/FIT/MITAI/1-rocnik/letni/PDS/proj/pds-env/lib/python3.8/site-packages/pyshark/packet/layer.py?line=22'>23</a>\u001b[0m \u001b[39m# so we'd rather not save them.\u001b[39;00m\n\u001b[1;32m     <a href='file:///home/xyadlo00/studies/FIT/MITAI/1-rocnik/letni/PDS/proj/pds-env/lib/python3.8/site-packages/pyshark/packet/layer.py?line=23'>24</a>\u001b[0m \u001b[39mfor\u001b[39;00m field \u001b[39min\u001b[39;00m xml_obj\u001b[39m.\u001b[39mfindall(\u001b[39m'\u001b[39m\u001b[39m.//field\u001b[39m\u001b[39m'\u001b[39m):\n\u001b[0;32m---> <a href='file:///home/xyadlo00/studies/FIT/MITAI/1-rocnik/letni/PDS/proj/pds-env/lib/python3.8/site-packages/pyshark/packet/layer.py?line=24'>25</a>\u001b[0m     attributes \u001b[39m=\u001b[39m \u001b[39mdict\u001b[39;49m(field\u001b[39m.\u001b[39;49mattrib)\n\u001b[1;32m     <a href='file:///home/xyadlo00/studies/FIT/MITAI/1-rocnik/letni/PDS/proj/pds-env/lib/python3.8/site-packages/pyshark/packet/layer.py?line=25'>26</a>\u001b[0m     field_obj \u001b[39m=\u001b[39m LayerField(\u001b[39m*\u001b[39m\u001b[39m*\u001b[39mattributes)\n\u001b[1;32m     <a href='file:///home/xyadlo00/studies/FIT/MITAI/1-rocnik/letni/PDS/proj/pds-env/lib/python3.8/site-packages/pyshark/packet/layer.py?line=26'>27</a>\u001b[0m     \u001b[39mif\u001b[39;00m attributes[\u001b[39m'\u001b[39m\u001b[39mname\u001b[39m\u001b[39m'\u001b[39m] \u001b[39min\u001b[39;00m \u001b[39mself\u001b[39m\u001b[39m.\u001b[39m_all_fields:\n\u001b[1;32m     <a href='file:///home/xyadlo00/studies/FIT/MITAI/1-rocnik/letni/PDS/proj/pds-env/lib/python3.8/site-packages/pyshark/packet/layer.py?line=27'>28</a>\u001b[0m         \u001b[39m# Field name already exists, add this field to the container.\u001b[39;00m\n",
      "\u001b[0;31mKeyboardInterrupt\u001b[0m: "
     ]
    }
   ],
   "source": [
    "# with concurrent.futures.ThreadPoolExecutor(max_workers=5) as executor:\n",
    "#         executor.map(parse, [1, 2])\n",
    "parse(1)\n",
    "parse(2)"
   ]
  },
  {
   "cell_type": "code",
   "execution_count": 11,
   "metadata": {},
   "outputs": [
    {
     "name": "stdout",
     "output_type": "stream",
     "text": [
      "---------------------------------------\n",
      "Datset: data/csv/mega104-17-12-18.csv\n",
      "Nu is: 0.0170\n",
      "Total number of samples: 12554\n",
      "Normal: 12261 (97.67%)\n",
      "Anomalies: 293 (2.33%)\n",
      "---------------------------------------\n",
      "---------------------------------------\n",
      "Datset: data/csv/10122018-104Mega.csv\n",
      "Nu is: 0.0170\n",
      "Total number of samples: 22126\n",
      "Normal: 21712 (98.13%)\n",
      "Anomalies: 414 (1.87%)\n",
      "---------------------------------------\n"
     ]
    },
    {
     "data": {
      "text/plain": [
       "[0.017, 0.018711018711018712, 0.9812889812889813]"
      ]
     },
     "execution_count": 11,
     "metadata": {},
     "output_type": "execute_result"
    }
   ],
   "source": [
    "# One-shot training\n",
    "nu = 0.017\n",
    "create_model(1, nu)\n",
    "create_model(2, nu)"
   ]
  },
  {
   "cell_type": "code",
   "execution_count": 124,
   "metadata": {},
   "outputs": [
    {
     "name": "stdout",
     "output_type": "stream",
     "text": [
      "       nu kernel_x  anomalies_1      ok_1 kernel_y  anomalies_2      ok_2\n",
      "0   0.005  sigmoid     0.004301  0.995699  sigmoid     0.006011  0.993989\n",
      "1   0.005      rbf     0.004540  0.995460  sigmoid     0.006011  0.993989\n",
      "2   0.006  sigmoid     0.005178  0.994822  sigmoid     0.007051  0.992949\n",
      "3   0.006      rbf     0.005337  0.994663  sigmoid     0.007051  0.992949\n",
      "4   0.007      rbf     0.005895  0.994105  sigmoid     0.008180  0.991820\n",
      "5   0.007  sigmoid     0.006054  0.993946  sigmoid     0.008180  0.991820\n",
      "6   0.008      rbf     0.006452  0.993548  sigmoid     0.009220  0.990780\n",
      "7   0.008  sigmoid     0.007010  0.992990  sigmoid     0.009220  0.990780\n",
      "8   0.009      rbf     0.007567  0.992433  sigmoid     0.010079  0.989921\n",
      "9   0.009  sigmoid     0.008603  0.991397  sigmoid     0.010079  0.989921\n",
      "10  0.010      rbf     0.008921  0.991079  sigmoid     0.011570  0.988430\n",
      "11  0.010  sigmoid     0.009877  0.990123  sigmoid     0.011570  0.988430\n",
      "12  0.011      rbf     0.009559  0.990441  sigmoid     0.012519  0.987481\n",
      "13  0.011  sigmoid     0.011630  0.988370  sigmoid     0.012519  0.987481\n",
      "14  0.012      rbf     0.010674  0.989326  sigmoid     0.013785  0.986215\n",
      "15  0.012  sigmoid     0.012745  0.987255  sigmoid     0.013785  0.986215\n",
      "16  0.013      rbf     0.011391  0.988609  sigmoid     0.015095  0.984905\n",
      "17  0.013  sigmoid     0.014338  0.985662  sigmoid     0.015095  0.984905\n",
      "18  0.014      rbf     0.012586  0.987414  sigmoid     0.016090  0.983910\n",
      "19  0.014  sigmoid     0.014975  0.985025  sigmoid     0.016090  0.983910\n",
      "20  0.015      rbf     0.014019  0.985981  sigmoid     0.017265  0.982735\n",
      "21  0.015  sigmoid     0.015852  0.984148  sigmoid     0.017265  0.982735\n",
      "22  0.016      rbf     0.014338  0.985662  sigmoid     0.018575  0.981425\n",
      "23  0.016  sigmoid     0.016728  0.983272  sigmoid     0.018575  0.981425\n",
      "24  0.017      rbf     0.014896  0.985104  sigmoid     0.019434  0.980566\n",
      "25  0.017  sigmoid     0.017604  0.982396  sigmoid     0.019434  0.980566\n"
     ]
    }
   ],
   "source": [
    "# Check different Nu parameter for the training of the data\n",
    "nu = 0.002\n",
    "result_pd_1 = []\n",
    "result_pd_2 = []\n",
    "nus = np.arange(0.005, 0.02, 0.001)\n",
    "\n",
    "def train(nu):\n",
    "    for kernel in [\"rbf\", \"sigmoid\"]:\n",
    "        entry = (nu, kernel, *create_model(1, nu=nu, kernel=kernel)[1:])\n",
    "        result_pd_1.append(entry)\n",
    "        entry = (nu, kernel, *create_model(2, nu=nu, kernel=kernel)[1:])\n",
    "        result_pd_2.append(entry)\n",
    "\n",
    "with concurrent.futures.ThreadPoolExecutor(max_workers=len(nus)) as executor:\n",
    "        executor.map(train, nus)\n",
    "\n",
    "\n",
    "df_1 = pd.DataFrame(result_pd_1, columns=[\"nu\", \"kernel\", \"anomalies_1\", \"ok_1\"])\n",
    "df_2 = pd.DataFrame(result_pd_2, columns=[\"nu\", \"kernel\", \"anomalies_2\", \"ok_2\"])\n",
    "df_1.to_csv(join(CSV_D, \"pandas-df-1.csv\"))\n",
    "df_2.to_csv(join(CSV_D, \"pandas-df-2.csv\"))\n",
    "df_1_sort = df_1.sort_values(by=['ok_1'], ascending=False).reset_index(drop=True)\n",
    "df_2_sort = df_2.sort_values(by=[\"ok_2\"], ascending=False).reset_index(drop=True)\n",
    "\n",
    "ok_1 = df_1_sort.loc[(df_1_sort[\"ok_1\"] > 0.98)]\n",
    "ok_2 = df_2_sort.loc[(df_2_sort[\"ok_2\"] > 0.98)]\n",
    "\n",
    "merged = pd.merge(left=ok_1, right=ok_2, how=\"right\", on=\"nu\")\n",
    "print(merged)"
   ]
  },
  {
   "cell_type": "code",
   "execution_count": 19,
   "metadata": {},
   "outputs": [],
   "source": [
    "_, (ind, vals), i = create_anomalies(8, model_num)"
   ]
  },
  {
   "cell_type": "code",
   "execution_count": 9,
   "metadata": {},
   "outputs": [
    {
     "name": "stdout",
     "output_type": "stream",
     "text": [
      "------------------------------\n",
      "Datset: data/csv/anomalies/frame-2-3.csv\n",
      "Total number of samples: 981\n",
      "Normal: 915 (93.27%)\n",
      "Anomalies: 66 (6.73%)\n",
      "------------------------------\n",
      "Created 30: [17, 24, 130, 171, 195, 216, 248, 256, 428, 442, 525, 556, 559, 596, 639, 643, 650, 666, 689, 794, 795, 796, 797, 798, 799, 800, 801, 802, 803, 835]\n",
      "Detected 29: [17, 24, 130, 171, 195, 216, 248, 256, 428, 442, 525, 556, 559, 596, 639, 643, 650, 666, 689, 794, 795, 796, 797, 798, 799, 800, 801, 802, 835]\n",
      "1.03%\n"
     ]
    }
   ],
   "source": [
    "frame_num = 3\n",
    "_, (ind, vals), i = create_anomalies(frame_num)\n",
    "frame_anom = get_interval(frame_num, type_='a')\n",
    "\n",
    "res = predict(num, 0.017, frame_anom)\n",
    "anoms_an = [i for i, n in enumerate(res) if n == -1]\n",
    "all_data = pd.read_csv(frame_anom)\n",
    "\n",
    "anoms_real = sorted([i for i in anoms_an if i not in anoms_ok])\n",
    "print(f\"Created {len(ind)}: {sorted(ind)}\")\n",
    "print(f\"Detected {len(anoms_real)}: {anoms_real}\")\n",
    "print(f\"{len(ind)/len(anoms_real):.02f}%\")"
   ]
  },
  {
   "cell_type": "markdown",
   "metadata": {},
   "source": [
    "### Accuracy of original datasets"
   ]
  },
  {
   "cell_type": "code",
   "execution_count": 64,
   "metadata": {},
   "outputs": [
    {
     "name": "stdout",
     "output_type": "stream",
     "text": [
      "--------------------------------\n",
      "Datset: data/csv/mega104-17-12-18.csv\n",
      "Total number of samples: 37660\n",
      "Normal: 36679 (97.40%)\n",
      "Anomalies: 981 (2.60%)\n",
      "--------------------------------\n",
      "0.973951141795008\n"
     ]
    }
   ],
   "source": [
    "data_1 = pd.read_csv(CSV[\"1\"])\n",
    "data_1[\"relative_time_stamp\"] = pd.to_datetime(data_1[\"relative_time_stamp\"], unit='s',)\n",
    "real_labels = np.ones(data_1.shape[0], dtype=int)\n",
    "gen_labels = predict(\"1\", 0.021, CSV[\"1\"])\n",
    "acc = accuracy_score(real_labels, gen_labels)\n",
    "print(acc)"
   ]
  },
  {
   "cell_type": "code",
   "execution_count": 65,
   "metadata": {},
   "outputs": [
    {
     "name": "stdout",
     "output_type": "stream",
     "text": [
      "--------------------------------\n",
      "Datset: data/csv/10122018-104Mega.csv\n",
      "Total number of samples: 66377\n",
      "Normal: 64714 (97.49%)\n",
      "Anomalies: 1663 (2.51%)\n",
      "--------------------------------\n",
      "0.9749461409825693\n"
     ]
    }
   ],
   "source": [
    "data_2 = pd.read_csv(CSV[\"2\"])\n",
    "data_2[\"relative_time_stamp\"] = pd.to_datetime(data_2[\"relative_time_stamp\"], unit='s',)\n",
    "real_labels = np.ones(data_2.shape[0], dtype=int)\n",
    "gen_labels = predict(\"2\", nu, CSV[\"2\"])\n",
    "acc = accuracy_score(real_labels, gen_labels)\n",
    "print(acc)"
   ]
  },
  {
   "cell_type": "code",
   "execution_count": 128,
   "metadata": {},
   "outputs": [
    {
     "name": "stdout",
     "output_type": "stream",
     "text": [
      "<pandas.core.groupby.generic.DataFrameGroupBy object at 0x7f57b77c32e0>\n"
     ]
    }
   ],
   "source": [
    "summary = []\n",
    "nu = 0.005\n",
    "for kernel in [\"rbf\", \"sigmoid\"]:\n",
    "    for interval in [5, 7, 10]:\n",
    "        for model_num in ['1', '2']:\n",
    "            \n",
    "            intervals_dir = split_to_intervals(model_num, f\"{interval}min\")\n",
    "\n",
    "            # Prediction\n",
    "            frames = [f for f in listdir(intervals_dir) if f\"frame-{model_num}\" in f]\n",
    "            result_acc = []\n",
    "            for f in frames:\n",
    "                df = pd.read_csv(join(intervals_dir, f))\n",
    "                real_labels = np.ones(df.shape[0], dtype=int)\n",
    "                gen_labels = predict(model_num, nu, join(intervals_dir, f), out=False, kernel=kernel)\n",
    "                result_acc.append((join(intervals_dir, f), accuracy_score(real_labels, gen_labels)))\n",
    "            \n",
    "            result_acc = pd.DataFrame(result_acc, columns=[\"dataframe\", \"accuracy\"])\n",
    "            max_acc = result_acc[result_acc.accuracy == result_acc.accuracy.max()]\n",
    "            tmp = (model_num, kernel, interval,\n",
    "                    result_acc.accuracy.min(),\n",
    "                    max_acc.shape[0],\n",
    "                    (max_acc.shape[0]/result_acc.shape[0])*100,\n",
    "                    result_acc.accuracy.mean())\n",
    "            summary.append(tmp)\n",
    "summary = pd.DataFrame(summary, columns=[\"model number\", \"kernel\", \"interval\", \"min acc\",  \"num 100 acc\", \"% 100 acc\", \"mean acc\"])\n",
    "\n",
    "print(summary.groupby(\"interval\"))\n"
   ]
  },
  {
   "cell_type": "code",
   "execution_count": 131,
   "metadata": {},
   "outputs": [
    {
     "name": "stdout",
     "output_type": "stream",
     "text": [
      "  model number   kernel  interval   min acc  num 100 acc  % 100 acc  mean acc\n",
      "0            1      rbf         5  0.923077          655  80.269608  0.994372\n",
      "1            2      rbf         5  0.840619            1   1.694915  0.848549\n",
      "6            1  sigmoid         5  0.897436          651  79.779412  0.995043\n",
      "7            2  sigmoid         5  0.988117            1   1.694915  0.994532 \n",
      "\n",
      "\n",
      "  model number   kernel  interval   min acc  num 100 acc  % 100 acc  mean acc\n",
      "2            1      rbf         7  0.941176          422  72.384220  0.994396\n",
      "3            2      rbf         7  0.840260            1   2.380952  0.848745\n",
      "8            1  sigmoid         7  0.921569          420  72.041166  0.995030\n",
      "9            2  sigmoid         7  0.991520            1   2.380952  0.994550 \n",
      "\n",
      "\n",
      "   model number   kernel  interval   min acc  num 100 acc  % 100 acc  mean acc\n",
      "4             1      rbf        10  0.938776          263  64.460784  0.994397\n",
      "5             2      rbf        10  0.842466            1   3.333333  0.848967\n",
      "10            1  sigmoid        10  0.942029          261  63.970588  0.995074\n",
      "11            2  sigmoid        10  0.989290            1   3.333333  0.994445 \n",
      "\n",
      "\n"
     ]
    }
   ],
   "source": [
    "grouped_df = summary.groupby(\"interval\")\n",
    "for key, item in grouped_df:\n",
    "    # grouped_df.get_group(key).to_latex(index=False)\n",
    "    print(grouped_df.get_group(key), \"\\n\\n\")"
   ]
  },
  {
   "cell_type": "code",
   "execution_count": 165,
   "metadata": {},
   "outputs": [
    {
     "name": "stdout",
     "output_type": "stream",
     "text": [
      "Random indexes of frames: [0, 4, 10, 13, 30, 100, 111, 222, 403]\n",
      "data/csv/intervals/model-1-10min/frame-1-0.csv\n"
     ]
    },
    {
     "ename": "KeyError",
     "evalue": "'[127] not in index'",
     "output_type": "error",
     "traceback": [
      "\u001b[0;31m---------------------------------------------------------------------------\u001b[0m",
      "\u001b[0;31mKeyError\u001b[0m                                  Traceback (most recent call last)",
      "\u001b[1;32m/home/xyadlo00/studies/FIT/MITAI/1-rocnik/letni/PDS/proj/iec104Model/iec104Model/model.ipynb Cell 18'\u001b[0m in \u001b[0;36m<cell line: 12>\u001b[0;34m()\u001b[0m\n\u001b[1;32m     <a href='vscode-notebook-cell:/home/xyadlo00/studies/FIT/MITAI/1-rocnik/letni/PDS/proj/iec104Model/iec104Model/model.ipynb#ch0000033?line=11'>12</a>\u001b[0m \u001b[39mfor\u001b[39;00m i \u001b[39min\u001b[39;00m indexes:\n\u001b[1;32m     <a href='vscode-notebook-cell:/home/xyadlo00/studies/FIT/MITAI/1-rocnik/letni/PDS/proj/iec104Model/iec104Model/model.ipynb#ch0000033?line=12'>13</a>\u001b[0m     \u001b[39mprint\u001b[39m(get_interval(i, interval, model_num))\n\u001b[0;32m---> <a href='vscode-notebook-cell:/home/xyadlo00/studies/FIT/MITAI/1-rocnik/letni/PDS/proj/iec104Model/iec104Model/model.ipynb#ch0000033?line=13'>14</a>\u001b[0m     anom_frame, _, _ \u001b[39m=\u001b[39m create_anomalies(i, interval, model_num)\n\u001b[1;32m     <a href='vscode-notebook-cell:/home/xyadlo00/studies/FIT/MITAI/1-rocnik/letni/PDS/proj/iec104Model/iec104Model/model.ipynb#ch0000033?line=14'>15</a>\u001b[0m     ok_frame \u001b[39m=\u001b[39m pd\u001b[39m.\u001b[39mread_csv(get_interval(i, interval, model_num))\n\u001b[1;32m     <a href='vscode-notebook-cell:/home/xyadlo00/studies/FIT/MITAI/1-rocnik/letni/PDS/proj/iec104Model/iec104Model/model.ipynb#ch0000033?line=15'>16</a>\u001b[0m     real \u001b[39m=\u001b[39m np\u001b[39m.\u001b[39mones(ok_frame\u001b[39m.\u001b[39mshape[\u001b[39m0\u001b[39m])\n",
      "\u001b[1;32m/home/xyadlo00/studies/FIT/MITAI/1-rocnik/letni/PDS/proj/iec104Model/iec104Model/model.ipynb Cell 6'\u001b[0m in \u001b[0;36mcreate_anomalies\u001b[0;34m(i, interval, model_num)\u001b[0m\n\u001b[1;32m     <a href='vscode-notebook-cell:/home/xyadlo00/studies/FIT/MITAI/1-rocnik/letni/PDS/proj/iec104Model/iec104Model/model.ipynb#ch0000010?line=14'>15</a>\u001b[0m index \u001b[39m=\u001b[39m np\u001b[39m.\u001b[39mrandom\u001b[39m.\u001b[39mrandint(\u001b[39m0\u001b[39m, row_num\u001b[39m-\u001b[39m\u001b[39m10\u001b[39m)\n\u001b[1;32m     <a href='vscode-notebook-cell:/home/xyadlo00/studies/FIT/MITAI/1-rocnik/letni/PDS/proj/iec104Model/iec104Model/model.ipynb#ch0000010?line=15'>16</a>\u001b[0m range_ \u001b[39m=\u001b[39m pd\u001b[39m.\u001b[39mRangeIndex(index, index \u001b[39m+\u001b[39m \u001b[39mint\u001b[39m(row_num\u001b[39m*\u001b[39m\u001b[39m0.2\u001b[39m))\n\u001b[0;32m---> <a href='vscode-notebook-cell:/home/xyadlo00/studies/FIT/MITAI/1-rocnik/letni/PDS/proj/iec104Model/iec104Model/model.ipynb#ch0000010?line=17'>18</a>\u001b[0m src \u001b[39m=\u001b[39m frame\u001b[39m.\u001b[39;49mloc[range_, \u001b[39m\"\u001b[39;49m\u001b[39msrc\u001b[39;49m\u001b[39m\"\u001b[39;49m]\n\u001b[1;32m     <a href='vscode-notebook-cell:/home/xyadlo00/studies/FIT/MITAI/1-rocnik/letni/PDS/proj/iec104Model/iec104Model/model.ipynb#ch0000010?line=18'>19</a>\u001b[0m frame\u001b[39m.\u001b[39mloc[range_, \u001b[39m\"\u001b[39m\u001b[39msrc\u001b[39m\u001b[39m\"\u001b[39m] \u001b[39m=\u001b[39m frame\u001b[39m.\u001b[39mloc[range_, \u001b[39m\"\u001b[39m\u001b[39mdst\u001b[39m\u001b[39m\"\u001b[39m]\n\u001b[1;32m     <a href='vscode-notebook-cell:/home/xyadlo00/studies/FIT/MITAI/1-rocnik/letni/PDS/proj/iec104Model/iec104Model/model.ipynb#ch0000010?line=19'>20</a>\u001b[0m frame\u001b[39m.\u001b[39mloc[range_, \u001b[39m\"\u001b[39m\u001b[39mdst\u001b[39m\u001b[39m\"\u001b[39m] \u001b[39m=\u001b[39m src\n",
      "File \u001b[0;32m~/studies/FIT/MITAI/1-rocnik/letni/PDS/proj/pds-env/lib/python3.8/site-packages/pandas/core/indexing.py:961\u001b[0m, in \u001b[0;36m_LocationIndexer.__getitem__\u001b[0;34m(self, key)\u001b[0m\n\u001b[1;32m    <a href='file:///home/xyadlo00/studies/FIT/MITAI/1-rocnik/letni/PDS/proj/pds-env/lib/python3.8/site-packages/pandas/core/indexing.py?line=958'>959</a>\u001b[0m     \u001b[39mif\u001b[39;00m \u001b[39mself\u001b[39m\u001b[39m.\u001b[39m_is_scalar_access(key):\n\u001b[1;32m    <a href='file:///home/xyadlo00/studies/FIT/MITAI/1-rocnik/letni/PDS/proj/pds-env/lib/python3.8/site-packages/pandas/core/indexing.py?line=959'>960</a>\u001b[0m         \u001b[39mreturn\u001b[39;00m \u001b[39mself\u001b[39m\u001b[39m.\u001b[39mobj\u001b[39m.\u001b[39m_get_value(\u001b[39m*\u001b[39mkey, takeable\u001b[39m=\u001b[39m\u001b[39mself\u001b[39m\u001b[39m.\u001b[39m_takeable)\n\u001b[0;32m--> <a href='file:///home/xyadlo00/studies/FIT/MITAI/1-rocnik/letni/PDS/proj/pds-env/lib/python3.8/site-packages/pandas/core/indexing.py?line=960'>961</a>\u001b[0m     \u001b[39mreturn\u001b[39;00m \u001b[39mself\u001b[39;49m\u001b[39m.\u001b[39;49m_getitem_tuple(key)\n\u001b[1;32m    <a href='file:///home/xyadlo00/studies/FIT/MITAI/1-rocnik/letni/PDS/proj/pds-env/lib/python3.8/site-packages/pandas/core/indexing.py?line=961'>962</a>\u001b[0m \u001b[39melse\u001b[39;00m:\n\u001b[1;32m    <a href='file:///home/xyadlo00/studies/FIT/MITAI/1-rocnik/letni/PDS/proj/pds-env/lib/python3.8/site-packages/pandas/core/indexing.py?line=962'>963</a>\u001b[0m     \u001b[39m# we by definition only have the 0th axis\u001b[39;00m\n\u001b[1;32m    <a href='file:///home/xyadlo00/studies/FIT/MITAI/1-rocnik/letni/PDS/proj/pds-env/lib/python3.8/site-packages/pandas/core/indexing.py?line=963'>964</a>\u001b[0m     axis \u001b[39m=\u001b[39m \u001b[39mself\u001b[39m\u001b[39m.\u001b[39maxis \u001b[39mor\u001b[39;00m \u001b[39m0\u001b[39m\n",
      "File \u001b[0;32m~/studies/FIT/MITAI/1-rocnik/letni/PDS/proj/pds-env/lib/python3.8/site-packages/pandas/core/indexing.py:1140\u001b[0m, in \u001b[0;36m_LocIndexer._getitem_tuple\u001b[0;34m(self, tup)\u001b[0m\n\u001b[1;32m   <a href='file:///home/xyadlo00/studies/FIT/MITAI/1-rocnik/letni/PDS/proj/pds-env/lib/python3.8/site-packages/pandas/core/indexing.py?line=1137'>1138</a>\u001b[0m \u001b[39mwith\u001b[39;00m suppress(IndexingError):\n\u001b[1;32m   <a href='file:///home/xyadlo00/studies/FIT/MITAI/1-rocnik/letni/PDS/proj/pds-env/lib/python3.8/site-packages/pandas/core/indexing.py?line=1138'>1139</a>\u001b[0m     tup \u001b[39m=\u001b[39m \u001b[39mself\u001b[39m\u001b[39m.\u001b[39m_expand_ellipsis(tup)\n\u001b[0;32m-> <a href='file:///home/xyadlo00/studies/FIT/MITAI/1-rocnik/letni/PDS/proj/pds-env/lib/python3.8/site-packages/pandas/core/indexing.py?line=1139'>1140</a>\u001b[0m     \u001b[39mreturn\u001b[39;00m \u001b[39mself\u001b[39;49m\u001b[39m.\u001b[39;49m_getitem_lowerdim(tup)\n\u001b[1;32m   <a href='file:///home/xyadlo00/studies/FIT/MITAI/1-rocnik/letni/PDS/proj/pds-env/lib/python3.8/site-packages/pandas/core/indexing.py?line=1141'>1142</a>\u001b[0m \u001b[39m# no multi-index, so validate all of the indexers\u001b[39;00m\n\u001b[1;32m   <a href='file:///home/xyadlo00/studies/FIT/MITAI/1-rocnik/letni/PDS/proj/pds-env/lib/python3.8/site-packages/pandas/core/indexing.py?line=1142'>1143</a>\u001b[0m tup \u001b[39m=\u001b[39m \u001b[39mself\u001b[39m\u001b[39m.\u001b[39m_validate_tuple_indexer(tup)\n",
      "File \u001b[0;32m~/studies/FIT/MITAI/1-rocnik/letni/PDS/proj/pds-env/lib/python3.8/site-packages/pandas/core/indexing.py:891\u001b[0m, in \u001b[0;36m_LocationIndexer._getitem_lowerdim\u001b[0;34m(self, tup)\u001b[0m\n\u001b[1;32m    <a href='file:///home/xyadlo00/studies/FIT/MITAI/1-rocnik/letni/PDS/proj/pds-env/lib/python3.8/site-packages/pandas/core/indexing.py?line=888'>889</a>\u001b[0m             \u001b[39mreturn\u001b[39;00m section\n\u001b[1;32m    <a href='file:///home/xyadlo00/studies/FIT/MITAI/1-rocnik/letni/PDS/proj/pds-env/lib/python3.8/site-packages/pandas/core/indexing.py?line=889'>890</a>\u001b[0m         \u001b[39m# This is an elided recursive call to iloc/loc\u001b[39;00m\n\u001b[0;32m--> <a href='file:///home/xyadlo00/studies/FIT/MITAI/1-rocnik/letni/PDS/proj/pds-env/lib/python3.8/site-packages/pandas/core/indexing.py?line=890'>891</a>\u001b[0m         \u001b[39mreturn\u001b[39;00m \u001b[39mgetattr\u001b[39;49m(section, \u001b[39mself\u001b[39;49m\u001b[39m.\u001b[39;49mname)[new_key]\n\u001b[1;32m    <a href='file:///home/xyadlo00/studies/FIT/MITAI/1-rocnik/letni/PDS/proj/pds-env/lib/python3.8/site-packages/pandas/core/indexing.py?line=892'>893</a>\u001b[0m \u001b[39mraise\u001b[39;00m IndexingError(\u001b[39m\"\u001b[39m\u001b[39mnot applicable\u001b[39m\u001b[39m\"\u001b[39m)\n",
      "File \u001b[0;32m~/studies/FIT/MITAI/1-rocnik/letni/PDS/proj/pds-env/lib/python3.8/site-packages/pandas/core/indexing.py:967\u001b[0m, in \u001b[0;36m_LocationIndexer.__getitem__\u001b[0;34m(self, key)\u001b[0m\n\u001b[1;32m    <a href='file:///home/xyadlo00/studies/FIT/MITAI/1-rocnik/letni/PDS/proj/pds-env/lib/python3.8/site-packages/pandas/core/indexing.py?line=963'>964</a>\u001b[0m axis \u001b[39m=\u001b[39m \u001b[39mself\u001b[39m\u001b[39m.\u001b[39maxis \u001b[39mor\u001b[39;00m \u001b[39m0\u001b[39m\n\u001b[1;32m    <a href='file:///home/xyadlo00/studies/FIT/MITAI/1-rocnik/letni/PDS/proj/pds-env/lib/python3.8/site-packages/pandas/core/indexing.py?line=965'>966</a>\u001b[0m maybe_callable \u001b[39m=\u001b[39m com\u001b[39m.\u001b[39mapply_if_callable(key, \u001b[39mself\u001b[39m\u001b[39m.\u001b[39mobj)\n\u001b[0;32m--> <a href='file:///home/xyadlo00/studies/FIT/MITAI/1-rocnik/letni/PDS/proj/pds-env/lib/python3.8/site-packages/pandas/core/indexing.py?line=966'>967</a>\u001b[0m \u001b[39mreturn\u001b[39;00m \u001b[39mself\u001b[39;49m\u001b[39m.\u001b[39;49m_getitem_axis(maybe_callable, axis\u001b[39m=\u001b[39;49maxis)\n",
      "File \u001b[0;32m~/studies/FIT/MITAI/1-rocnik/letni/PDS/proj/pds-env/lib/python3.8/site-packages/pandas/core/indexing.py:1191\u001b[0m, in \u001b[0;36m_LocIndexer._getitem_axis\u001b[0;34m(self, key, axis)\u001b[0m\n\u001b[1;32m   <a href='file:///home/xyadlo00/studies/FIT/MITAI/1-rocnik/letni/PDS/proj/pds-env/lib/python3.8/site-packages/pandas/core/indexing.py?line=1187'>1188</a>\u001b[0m     \u001b[39mif\u001b[39;00m \u001b[39mhasattr\u001b[39m(key, \u001b[39m\"\u001b[39m\u001b[39mndim\u001b[39m\u001b[39m\"\u001b[39m) \u001b[39mand\u001b[39;00m key\u001b[39m.\u001b[39mndim \u001b[39m>\u001b[39m \u001b[39m1\u001b[39m:\n\u001b[1;32m   <a href='file:///home/xyadlo00/studies/FIT/MITAI/1-rocnik/letni/PDS/proj/pds-env/lib/python3.8/site-packages/pandas/core/indexing.py?line=1188'>1189</a>\u001b[0m         \u001b[39mraise\u001b[39;00m \u001b[39mValueError\u001b[39;00m(\u001b[39m\"\u001b[39m\u001b[39mCannot index with multidimensional key\u001b[39m\u001b[39m\"\u001b[39m)\n\u001b[0;32m-> <a href='file:///home/xyadlo00/studies/FIT/MITAI/1-rocnik/letni/PDS/proj/pds-env/lib/python3.8/site-packages/pandas/core/indexing.py?line=1190'>1191</a>\u001b[0m     \u001b[39mreturn\u001b[39;00m \u001b[39mself\u001b[39;49m\u001b[39m.\u001b[39;49m_getitem_iterable(key, axis\u001b[39m=\u001b[39;49maxis)\n\u001b[1;32m   <a href='file:///home/xyadlo00/studies/FIT/MITAI/1-rocnik/letni/PDS/proj/pds-env/lib/python3.8/site-packages/pandas/core/indexing.py?line=1192'>1193</a>\u001b[0m \u001b[39m# nested tuple slicing\u001b[39;00m\n\u001b[1;32m   <a href='file:///home/xyadlo00/studies/FIT/MITAI/1-rocnik/letni/PDS/proj/pds-env/lib/python3.8/site-packages/pandas/core/indexing.py?line=1193'>1194</a>\u001b[0m \u001b[39mif\u001b[39;00m is_nested_tuple(key, labels):\n",
      "File \u001b[0;32m~/studies/FIT/MITAI/1-rocnik/letni/PDS/proj/pds-env/lib/python3.8/site-packages/pandas/core/indexing.py:1132\u001b[0m, in \u001b[0;36m_LocIndexer._getitem_iterable\u001b[0;34m(self, key, axis)\u001b[0m\n\u001b[1;32m   <a href='file:///home/xyadlo00/studies/FIT/MITAI/1-rocnik/letni/PDS/proj/pds-env/lib/python3.8/site-packages/pandas/core/indexing.py?line=1128'>1129</a>\u001b[0m \u001b[39mself\u001b[39m\u001b[39m.\u001b[39m_validate_key(key, axis)\n\u001b[1;32m   <a href='file:///home/xyadlo00/studies/FIT/MITAI/1-rocnik/letni/PDS/proj/pds-env/lib/python3.8/site-packages/pandas/core/indexing.py?line=1130'>1131</a>\u001b[0m \u001b[39m# A collection of keys\u001b[39;00m\n\u001b[0;32m-> <a href='file:///home/xyadlo00/studies/FIT/MITAI/1-rocnik/letni/PDS/proj/pds-env/lib/python3.8/site-packages/pandas/core/indexing.py?line=1131'>1132</a>\u001b[0m keyarr, indexer \u001b[39m=\u001b[39m \u001b[39mself\u001b[39;49m\u001b[39m.\u001b[39;49m_get_listlike_indexer(key, axis)\n\u001b[1;32m   <a href='file:///home/xyadlo00/studies/FIT/MITAI/1-rocnik/letni/PDS/proj/pds-env/lib/python3.8/site-packages/pandas/core/indexing.py?line=1132'>1133</a>\u001b[0m \u001b[39mreturn\u001b[39;00m \u001b[39mself\u001b[39m\u001b[39m.\u001b[39mobj\u001b[39m.\u001b[39m_reindex_with_indexers(\n\u001b[1;32m   <a href='file:///home/xyadlo00/studies/FIT/MITAI/1-rocnik/letni/PDS/proj/pds-env/lib/python3.8/site-packages/pandas/core/indexing.py?line=1133'>1134</a>\u001b[0m     {axis: [keyarr, indexer]}, copy\u001b[39m=\u001b[39m\u001b[39mTrue\u001b[39;00m, allow_dups\u001b[39m=\u001b[39m\u001b[39mTrue\u001b[39;00m\n\u001b[1;32m   <a href='file:///home/xyadlo00/studies/FIT/MITAI/1-rocnik/letni/PDS/proj/pds-env/lib/python3.8/site-packages/pandas/core/indexing.py?line=1134'>1135</a>\u001b[0m )\n",
      "File \u001b[0;32m~/studies/FIT/MITAI/1-rocnik/letni/PDS/proj/pds-env/lib/python3.8/site-packages/pandas/core/indexing.py:1327\u001b[0m, in \u001b[0;36m_LocIndexer._get_listlike_indexer\u001b[0;34m(self, key, axis)\u001b[0m\n\u001b[1;32m   <a href='file:///home/xyadlo00/studies/FIT/MITAI/1-rocnik/letni/PDS/proj/pds-env/lib/python3.8/site-packages/pandas/core/indexing.py?line=1323'>1324</a>\u001b[0m ax \u001b[39m=\u001b[39m \u001b[39mself\u001b[39m\u001b[39m.\u001b[39mobj\u001b[39m.\u001b[39m_get_axis(axis)\n\u001b[1;32m   <a href='file:///home/xyadlo00/studies/FIT/MITAI/1-rocnik/letni/PDS/proj/pds-env/lib/python3.8/site-packages/pandas/core/indexing.py?line=1324'>1325</a>\u001b[0m axis_name \u001b[39m=\u001b[39m \u001b[39mself\u001b[39m\u001b[39m.\u001b[39mobj\u001b[39m.\u001b[39m_get_axis_name(axis)\n\u001b[0;32m-> <a href='file:///home/xyadlo00/studies/FIT/MITAI/1-rocnik/letni/PDS/proj/pds-env/lib/python3.8/site-packages/pandas/core/indexing.py?line=1326'>1327</a>\u001b[0m keyarr, indexer \u001b[39m=\u001b[39m ax\u001b[39m.\u001b[39;49m_get_indexer_strict(key, axis_name)\n\u001b[1;32m   <a href='file:///home/xyadlo00/studies/FIT/MITAI/1-rocnik/letni/PDS/proj/pds-env/lib/python3.8/site-packages/pandas/core/indexing.py?line=1328'>1329</a>\u001b[0m \u001b[39mreturn\u001b[39;00m keyarr, indexer\n",
      "File \u001b[0;32m~/studies/FIT/MITAI/1-rocnik/letni/PDS/proj/pds-env/lib/python3.8/site-packages/pandas/core/indexes/base.py:5782\u001b[0m, in \u001b[0;36mIndex._get_indexer_strict\u001b[0;34m(self, key, axis_name)\u001b[0m\n\u001b[1;32m   <a href='file:///home/xyadlo00/studies/FIT/MITAI/1-rocnik/letni/PDS/proj/pds-env/lib/python3.8/site-packages/pandas/core/indexes/base.py?line=5778'>5779</a>\u001b[0m \u001b[39melse\u001b[39;00m:\n\u001b[1;32m   <a href='file:///home/xyadlo00/studies/FIT/MITAI/1-rocnik/letni/PDS/proj/pds-env/lib/python3.8/site-packages/pandas/core/indexes/base.py?line=5779'>5780</a>\u001b[0m     keyarr, indexer, new_indexer \u001b[39m=\u001b[39m \u001b[39mself\u001b[39m\u001b[39m.\u001b[39m_reindex_non_unique(keyarr)\n\u001b[0;32m-> <a href='file:///home/xyadlo00/studies/FIT/MITAI/1-rocnik/letni/PDS/proj/pds-env/lib/python3.8/site-packages/pandas/core/indexes/base.py?line=5781'>5782</a>\u001b[0m \u001b[39mself\u001b[39;49m\u001b[39m.\u001b[39;49m_raise_if_missing(keyarr, indexer, axis_name)\n\u001b[1;32m   <a href='file:///home/xyadlo00/studies/FIT/MITAI/1-rocnik/letni/PDS/proj/pds-env/lib/python3.8/site-packages/pandas/core/indexes/base.py?line=5783'>5784</a>\u001b[0m keyarr \u001b[39m=\u001b[39m \u001b[39mself\u001b[39m\u001b[39m.\u001b[39mtake(indexer)\n\u001b[1;32m   <a href='file:///home/xyadlo00/studies/FIT/MITAI/1-rocnik/letni/PDS/proj/pds-env/lib/python3.8/site-packages/pandas/core/indexes/base.py?line=5784'>5785</a>\u001b[0m \u001b[39mif\u001b[39;00m \u001b[39misinstance\u001b[39m(key, Index):\n\u001b[1;32m   <a href='file:///home/xyadlo00/studies/FIT/MITAI/1-rocnik/letni/PDS/proj/pds-env/lib/python3.8/site-packages/pandas/core/indexes/base.py?line=5785'>5786</a>\u001b[0m     \u001b[39m# GH 42790 - Preserve name from an Index\u001b[39;00m\n",
      "File \u001b[0;32m~/studies/FIT/MITAI/1-rocnik/letni/PDS/proj/pds-env/lib/python3.8/site-packages/pandas/core/indexes/base.py:5845\u001b[0m, in \u001b[0;36mIndex._raise_if_missing\u001b[0;34m(self, key, indexer, axis_name)\u001b[0m\n\u001b[1;32m   <a href='file:///home/xyadlo00/studies/FIT/MITAI/1-rocnik/letni/PDS/proj/pds-env/lib/python3.8/site-packages/pandas/core/indexes/base.py?line=5841'>5842</a>\u001b[0m     \u001b[39mraise\u001b[39;00m \u001b[39mKeyError\u001b[39;00m(\u001b[39mf\u001b[39m\u001b[39m\"\u001b[39m\u001b[39mNone of [\u001b[39m\u001b[39m{\u001b[39;00mkey\u001b[39m}\u001b[39;00m\u001b[39m] are in the [\u001b[39m\u001b[39m{\u001b[39;00maxis_name\u001b[39m}\u001b[39;00m\u001b[39m]\u001b[39m\u001b[39m\"\u001b[39m)\n\u001b[1;32m   <a href='file:///home/xyadlo00/studies/FIT/MITAI/1-rocnik/letni/PDS/proj/pds-env/lib/python3.8/site-packages/pandas/core/indexes/base.py?line=5843'>5844</a>\u001b[0m not_found \u001b[39m=\u001b[39m \u001b[39mlist\u001b[39m(ensure_index(key)[missing_mask\u001b[39m.\u001b[39mnonzero()[\u001b[39m0\u001b[39m]]\u001b[39m.\u001b[39munique())\n\u001b[0;32m-> <a href='file:///home/xyadlo00/studies/FIT/MITAI/1-rocnik/letni/PDS/proj/pds-env/lib/python3.8/site-packages/pandas/core/indexes/base.py?line=5844'>5845</a>\u001b[0m \u001b[39mraise\u001b[39;00m \u001b[39mKeyError\u001b[39;00m(\u001b[39mf\u001b[39m\u001b[39m\"\u001b[39m\u001b[39m{\u001b[39;00mnot_found\u001b[39m}\u001b[39;00m\u001b[39m not in index\u001b[39m\u001b[39m\"\u001b[39m)\n",
      "\u001b[0;31mKeyError\u001b[0m: '[127] not in index'"
     ]
    }
   ],
   "source": [
    "model_num = \"1\"\n",
    "interval = 10\n",
    "nu = 0.005\n",
    "kernel = \"sigmoid\"\n",
    "anom_count = 45 # 20 for random changes + 25 serial \n",
    "interval_dir = join(INTERVALS_D, f\"model-{model_num}-{interval}min\")\n",
    "all_frames = [f for f in listdir(interval_dir) if f\"frame-{model_num}\" in f]\n",
    "indexes = [0, 4, 10, 13, 30, 100, 111, 222, 403]\n",
    "print(f\"Random indexes of frames: {indexes}\")\n",
    "\n",
    "summary = []\n",
    "for i in indexes:\n",
    "    print(get_interval(i, interval, model_num))\n",
    "    anom_frame, _, _ = create_anomalies(i, interval, model_num)\n",
    "    ok_frame = pd.read_csv(get_interval(i, interval, model_num))\n",
    "    real = np.ones(ok_frame.shape[0])\n",
    "\n",
    "    first_prediction = predict(model_num, nu=nu, dataset=ok_frame, kernel=kernel, out=False)\n",
    "    prediction = predict(model_num, nu=nu, dataset=anom_frame, kernel=kernel, out=False)\n",
    "    summary.append((accuracy_score(real, first_prediction),\n",
    "                    1 - accuracy_score(real, first_prediction),\n",
    "                    accuracy_score(real, prediction),\n",
    "                    1 - accuracy_score(real, prediction)))\n",
    "summary = pd.DataFrame(summary, columns=[])"
   ]
  },
  {
   "cell_type": "code",
   "execution_count": null,
   "metadata": {},
   "outputs": [],
   "source": []
  }
 ],
 "metadata": {
  "interpreter": {
   "hash": "5d721b7aa69adfd7a06c5c74cab2c506a8d78a054b34212b5774bf472b17f188"
  },
  "kernelspec": {
   "display_name": "Python 3.10.3 ('venv': venv)",
   "language": "python",
   "name": "python3"
  },
  "language_info": {
   "codemirror_mode": {
    "name": "ipython",
    "version": 3
   },
   "file_extension": ".py",
   "mimetype": "text/x-python",
   "name": "python",
   "nbconvert_exporter": "python",
   "pygments_lexer": "ipython3",
   "version": "3.8.10"
  },
  "orig_nbformat": 4
 },
 "nbformat": 4,
 "nbformat_minor": 2
}
